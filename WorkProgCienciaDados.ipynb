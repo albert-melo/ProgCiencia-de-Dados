{
  "nbformat": 4,
  "nbformat_minor": 0,
  "metadata": {
    "colab": {
      "name": "WorkProgCienciaDados.ipynb",
      "provenance": [],
      "mount_file_id": "https://github.com/albert-melo/ProgCiencia-de-Dados/blob/master/WorkProgCienciaDados.ipynb",
      "authorship_tag": "ABX9TyPjKd6TN+3coedAA6eKap3e",
      "include_colab_link": true
    },
    "kernelspec": {
      "name": "python3",
      "display_name": "Python 3"
    }
  },
  "cells": [
    {
      "cell_type": "markdown",
      "metadata": {
        "id": "view-in-github",
        "colab_type": "text"
      },
      "source": [
        "<a href=\"https://colab.research.google.com/github/albert-melo/ProgCiencia-de-Dados/blob/master/WorkProgCienciaDados.ipynb\" target=\"_parent\"><img src=\"https://colab.research.google.com/assets/colab-badge.svg\" alt=\"Open In Colab\"/></a>"
      ]
    },
    {
      "cell_type": "markdown",
      "metadata": {
        "id": "fQgumz3YJzd-"
      },
      "source": [
        "Trabalho da Disciplina Programação para Ciência de Dados\n",
        "\n",
        "\n",
        "Aluno:\n",
        "\n",
        "> Albert Lima de Melo\n",
        "\n"
      ]
    },
    {
      "cell_type": "markdown",
      "metadata": {
        "id": "DSPdWeTTKXNF"
      },
      "source": [
        "Montagem do Drive para acesso a base de dados"
      ]
    },
    {
      "cell_type": "code",
      "metadata": {
        "id": "q70YVmxDKc5p",
        "outputId": "8cb7df80-0553-4d80-9f01-1f4b8be8de59",
        "colab": {
          "base_uri": "https://localhost:8080/",
          "height": 34
        }
      },
      "source": [
        "from google.colab import drive\n",
        "drive.mount('/content/drive')"
      ],
      "execution_count": 4,
      "outputs": [
        {
          "output_type": "stream",
          "text": [
            "Drive already mounted at /content/drive; to attempt to forcibly remount, call drive.mount(\"/content/drive\", force_remount=True).\n"
          ],
          "name": "stdout"
        }
      ]
    },
    {
      "cell_type": "markdown",
      "metadata": {
        "id": "zBjE6MokXB3C"
      },
      "source": [
        "Importando a base de dados **_dados-curso-completo.csv_** contendo 1.658.825 registros do Twitter\n",
        "\n",
        "\n"
      ]
    },
    {
      "cell_type": "code",
      "metadata": {
        "id": "uBNtNHFDW0cc",
        "outputId": "bcae0ff0-a0a6-4497-de70-ea22bf948ba3",
        "colab": {
          "base_uri": "https://localhost:8080/",
          "height": 34
        }
      },
      "source": [
        "import pandas as pd\n",
        "dados = pd.read_csv(\"/content/drive/My Drive/WorkProgCD/dados-curso-completo.csv\")\n",
        "print(\"Registros: \", len(dados))\n"
      ],
      "execution_count": 10,
      "outputs": [
        {
          "output_type": "stream",
          "text": [
            "Registros:  1658825\n"
          ],
          "name": "stdout"
        }
      ]
    },
    {
      "cell_type": "markdown",
      "metadata": {
        "id": "RwhHloJzKvvi"
      },
      "source": [
        "Inicio da Exploração da Base"
      ]
    },
    {
      "cell_type": "code",
      "metadata": {
        "id": "FhnYwD0XKzSI",
        "outputId": "e80603d0-b5d4-4205-f300-c3a9aa5aff17",
        "colab": {
          "base_uri": "https://localhost:8080/",
          "height": 297
        }
      },
      "source": [
        "dados.describe()"
      ],
      "execution_count": 18,
      "outputs": [
        {
          "output_type": "execute_result",
          "data": {
            "text/html": [
              "<div>\n",
              "<style scoped>\n",
              "    .dataframe tbody tr th:only-of-type {\n",
              "        vertical-align: middle;\n",
              "    }\n",
              "\n",
              "    .dataframe tbody tr th {\n",
              "        vertical-align: top;\n",
              "    }\n",
              "\n",
              "    .dataframe thead th {\n",
              "        text-align: right;\n",
              "    }\n",
              "</style>\n",
              "<table border=\"1\" class=\"dataframe\">\n",
              "  <thead>\n",
              "    <tr style=\"text-align: right;\">\n",
              "      <th></th>\n",
              "      <th>retweet</th>\n",
              "      <th>seguidores</th>\n",
              "      <th>latitude</th>\n",
              "      <th>longitude</th>\n",
              "    </tr>\n",
              "  </thead>\n",
              "  <tbody>\n",
              "    <tr>\n",
              "      <th>count</th>\n",
              "      <td>1.658825e+06</td>\n",
              "      <td>1.658825e+06</td>\n",
              "      <td>8720.000000</td>\n",
              "      <td>8720.000000</td>\n",
              "    </tr>\n",
              "    <tr>\n",
              "      <th>mean</th>\n",
              "      <td>1.978533e+02</td>\n",
              "      <td>3.257206e+04</td>\n",
              "      <td>-40.237583</td>\n",
              "      <td>-11.117100</td>\n",
              "    </tr>\n",
              "    <tr>\n",
              "      <th>std</th>\n",
              "      <td>6.337641e+03</td>\n",
              "      <td>3.680300e+05</td>\n",
              "      <td>20.808494</td>\n",
              "      <td>19.169105</td>\n",
              "    </tr>\n",
              "    <tr>\n",
              "      <th>min</th>\n",
              "      <td>0.000000e+00</td>\n",
              "      <td>0.000000e+00</td>\n",
              "      <td>-123.120400</td>\n",
              "      <td>-37.818769</td>\n",
              "    </tr>\n",
              "    <tr>\n",
              "      <th>25%</th>\n",
              "      <td>0.000000e+00</td>\n",
              "      <td>1.010000e+02</td>\n",
              "      <td>-47.864334</td>\n",
              "      <td>-23.305300</td>\n",
              "    </tr>\n",
              "    <tr>\n",
              "      <th>50%</th>\n",
              "      <td>0.000000e+00</td>\n",
              "      <td>3.800000e+02</td>\n",
              "      <td>-43.955615</td>\n",
              "      <td>-19.624400</td>\n",
              "    </tr>\n",
              "    <tr>\n",
              "      <th>75%</th>\n",
              "      <td>0.000000e+00</td>\n",
              "      <td>1.470000e+03</td>\n",
              "      <td>-38.453198</td>\n",
              "      <td>-7.120700</td>\n",
              "    </tr>\n",
              "    <tr>\n",
              "      <th>max</th>\n",
              "      <td>1.139763e+06</td>\n",
              "      <td>8.424125e+07</td>\n",
              "      <td>174.789310</td>\n",
              "      <td>58.257776</td>\n",
              "    </tr>\n",
              "  </tbody>\n",
              "</table>\n",
              "</div>"
            ],
            "text/plain": [
              "            retweet    seguidores     latitude    longitude\n",
              "count  1.658825e+06  1.658825e+06  8720.000000  8720.000000\n",
              "mean   1.978533e+02  3.257206e+04   -40.237583   -11.117100\n",
              "std    6.337641e+03  3.680300e+05    20.808494    19.169105\n",
              "min    0.000000e+00  0.000000e+00  -123.120400   -37.818769\n",
              "25%    0.000000e+00  1.010000e+02   -47.864334   -23.305300\n",
              "50%    0.000000e+00  3.800000e+02   -43.955615   -19.624400\n",
              "75%    0.000000e+00  1.470000e+03   -38.453198    -7.120700\n",
              "max    1.139763e+06  8.424125e+07   174.789310    58.257776"
            ]
          },
          "metadata": {
            "tags": []
          },
          "execution_count": 18
        }
      ]
    }
  ]
}