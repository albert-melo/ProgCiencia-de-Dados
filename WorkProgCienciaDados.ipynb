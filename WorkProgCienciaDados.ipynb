{
  "nbformat": 4,
  "nbformat_minor": 0,
  "metadata": {
    "colab": {
      "name": "WorkProgCienciaDados.ipynb",
      "provenance": [],
      "authorship_tag": "ABX9TyOGcExaAvUdedO4UXrbFnUp",
      "include_colab_link": true
    },
    "kernelspec": {
      "name": "python3",
      "display_name": "Python 3"
    }
  },
  "cells": [
    {
      "cell_type": "markdown",
      "metadata": {
        "id": "view-in-github",
        "colab_type": "text"
      },
      "source": [
        "<a href=\"https://colab.research.google.com/github/albert-melo/ProgCiencia-de-Dados/blob/master/WorkProgCienciaDados.ipynb\" target=\"_parent\"><img src=\"https://colab.research.google.com/assets/colab-badge.svg\" alt=\"Open In Colab\"/></a>"
      ]
    },
    {
      "cell_type": "markdown",
      "metadata": {
        "id": "fQgumz3YJzd-"
      },
      "source": [
        "#Trabalho da Disciplina Programação para Ciência de Dados\n",
        "\n",
        "##Aluno:\n",
        "\n",
        "> ###Albert Lima de Melo\n",
        "\n"
      ]
    },
    {
      "cell_type": "markdown",
      "metadata": {
        "id": "DSPdWeTTKXNF"
      },
      "source": [
        "#Montagem do Drive para acesso a base de dados\n",
        "Criação do drive para acessar os dados a serem analisados e tratados."
      ]
    },
    {
      "cell_type": "code",
      "metadata": {
        "id": "q70YVmxDKc5p",
        "outputId": "f0b04135-ebc4-40d4-b69f-051420bcb96f",
        "colab": {
          "base_uri": "https://localhost:8080/",
          "height": 34
        }
      },
      "source": [
        "from google.colab import drive\n",
        "drive.mount('/content/drive')"
      ],
      "execution_count": 3,
      "outputs": [
        {
          "output_type": "stream",
          "text": [
            "Mounted at /content/drive\n"
          ],
          "name": "stdout"
        }
      ]
    },
    {
      "cell_type": "markdown",
      "metadata": {
        "id": "zBjE6MokXB3C"
      },
      "source": [
        "##Importando a base de dados **_dados-curso-completo.csv_** \n",
        "Utilizando a biblioteca do Pandas para leitura do arquivo de dados que estão tabulados no padrão CSV."
      ]
    },
    {
      "cell_type": "code",
      "metadata": {
        "id": "uBNtNHFDW0cc"
      },
      "source": [
        "import pandas as pd\n",
        "dados = pd.read_csv(\"/content/drive/My Drive/WorkProgCD/dados-curso-completo.csv\")\n"
      ],
      "execution_count": 4,
      "outputs": []
    },
    {
      "cell_type": "markdown",
      "metadata": {
        "id": "RwhHloJzKvvi"
      },
      "source": [
        "#Visão Geral dos Dados\n",
        "\n",
        "A seguir vamos explorar os dados da base disponibilizada"
      ]
    },
    {
      "cell_type": "code",
      "metadata": {
        "id": "FhnYwD0XKzSI"
      },
      "source": [
        "dados.head()\n"
      ],
      "execution_count": null,
      "outputs": []
    },
    {
      "cell_type": "markdown",
      "metadata": {
        "id": "s-DtLvTFzCWU"
      },
      "source": [
        "##Dados Originais\n",
        "###Requisito\n",
        "1. Devem apresentar um resumo (sumário) com as estatísticas dos dados originais, ou seja, sem qualquer pré-processamento. A apresentação deste tipo de informação é relevante para que outras pessoas possam ter uma visão geral dos dados. As estatísticas podem ser apresentadas através de tabelas e/ou gráficos.\n"
      ]
    },
    {
      "cell_type": "markdown",
      "metadata": {
        "id": "4jrc-0_2Odv_"
      },
      "source": [
        "###Apresentando os dados iniciais"
      ]
    },
    {
      "cell_type": "code",
      "metadata": {
        "id": "fhFdO9qA1p9H",
        "outputId": "b8b452de-f5a3-4ddd-e67e-00baa3baad5b",
        "colab": {
          "base_uri": "https://localhost:8080/",
          "height": 576
        }
      },
      "source": [
        "print(\"Colunas que compõem a base de dados: \")\n",
        "info = dados.info()\n"
      ],
      "execution_count": 8,
      "outputs": [
        {
          "output_type": "stream",
          "text": [
            "Colunas que compõem a base de dados: \n",
            "<class 'pandas.core.frame.DataFrame'>\n",
            "RangeIndex: 1658825 entries, 0 to 1658824\n",
            "Data columns (total 13 columns):\n",
            " #   Column      Non-Null Count    Dtype  \n",
            "---  ------      --------------    -----  \n",
            " 0   data        1658825 non-null  object \n",
            " 1   usuario     1658768 non-null  object \n",
            " 2   apelido     1658825 non-null  object \n",
            " 3   texto       1658825 non-null  object \n",
            " 4   retweet     1658825 non-null  int64  \n",
            " 5   seguidores  1658825 non-null  int64  \n",
            " 6   idioma      1658825 non-null  object \n",
            " 7   lugar       74605 non-null    object \n",
            " 8   pais        74600 non-null    object \n",
            " 9   sigla       74595 non-null    object \n",
            " 10  latitude    8720 non-null     float64\n",
            " 11  longitude   8720 non-null     float64\n",
            " 12  hashtags    1658825 non-null  object \n",
            "dtypes: float64(2), int64(2), object(9)\n",
            "memory usage: 164.5+ MB\n"
          ],
          "name": "stdout"
        },
        {
          "output_type": "error",
          "ename": "AttributeError",
          "evalue": "ignored",
          "traceback": [
            "\u001b[0;31m---------------------------------------------------------------------------\u001b[0m",
            "\u001b[0;31mAttributeError\u001b[0m                            Traceback (most recent call last)",
            "\u001b[0;32m<ipython-input-8-eef47628295e>\u001b[0m in \u001b[0;36m<module>\u001b[0;34m()\u001b[0m\n\u001b[1;32m      1\u001b[0m \u001b[0mprint\u001b[0m\u001b[0;34m(\u001b[0m\u001b[0;34m\"Colunas que compõem a base de dados: \"\u001b[0m\u001b[0;34m)\u001b[0m\u001b[0;34m\u001b[0m\u001b[0;34m\u001b[0m\u001b[0m\n\u001b[1;32m      2\u001b[0m \u001b[0minfo\u001b[0m \u001b[0;34m=\u001b[0m \u001b[0mdados\u001b[0m\u001b[0;34m.\u001b[0m\u001b[0minfo\u001b[0m\u001b[0;34m(\u001b[0m\u001b[0;34m)\u001b[0m\u001b[0;34m\u001b[0m\u001b[0;34m\u001b[0m\u001b[0m\n\u001b[0;32m----> 3\u001b[0;31m \u001b[0mtype\u001b[0m\u001b[0;34m(\u001b[0m\u001b[0minfo\u001b[0m\u001b[0;34m.\u001b[0m\u001b[0mColunas\u001b[0m\u001b[0;34m)\u001b[0m\u001b[0;34m\u001b[0m\u001b[0;34m\u001b[0m\u001b[0m\n\u001b[0m",
            "\u001b[0;31mAttributeError\u001b[0m: 'NoneType' object has no attribute 'Colunas'"
          ]
        }
      ]
    },
    {
      "cell_type": "code",
      "metadata": {
        "id": "g4rpBtln41yc",
        "outputId": "41ecd36b-bd04-4c7d-9566-b6610ae3d5e7",
        "colab": {
          "base_uri": "https://localhost:8080/",
          "height": 194
        }
      },
      "source": [
        "print(\"Resumo dos dados: \")\n",
        "print( dados.describe().round(2))"
      ],
      "execution_count": 6,
      "outputs": [
        {
          "output_type": "stream",
          "text": [
            "Resumo dos dados: \n",
            "          retweet   seguidores  latitude  longitude\n",
            "count  1658825.00   1658825.00   8720.00    8720.00\n",
            "mean       197.85     32572.06    -40.24     -11.12\n",
            "std       6337.64    368029.99     20.81      19.17\n",
            "min          0.00         0.00   -123.12     -37.82\n",
            "25%          0.00       101.00    -47.86     -23.31\n",
            "50%          0.00       380.00    -43.96     -19.62\n",
            "75%          0.00      1470.00    -38.45      -7.12\n",
            "max    1139763.00  84241250.00    174.79      58.26\n"
          ],
          "name": "stdout"
        }
      ]
    },
    {
      "cell_type": "markdown",
      "metadata": {
        "id": "Lu1yeCCBgjrI"
      },
      "source": [
        "##Agrupando dados por países"
      ]
    },
    {
      "cell_type": "code",
      "metadata": {
        "id": "oT12Lp0Tgonl"
      },
      "source": [
        "dados2 = dados\n",
        "paises = dados2[\"pais\"].drop_duplicates()\n",
        "paises = list(paises)\n",
        "selecao = dados2['pais'].isin(paises)\n",
        "dados2 = dados2[selecao]\n",
        "\n",
        "dados2.drop_duplicates()\n",
        "grp_pais = dados2.groupby('pais')"
      ],
      "execution_count": null,
      "outputs": []
    },
    {
      "cell_type": "code",
      "metadata": {
        "id": "fCe8CnA6uhP7"
      },
      "source": [
        "import matplotlib.pyplot as plt\n",
        "plt.rc('figure', figsize = (20, 10))"
      ],
      "execution_count": null,
      "outputs": []
    },
    {
      "cell_type": "code",
      "metadata": {
        "id": "jYdSF3TavGJG"
      },
      "source": [
        "grp_pais[ ['pais'] ].count()\n",
        "\n",
        "fig = grp_pais['pais'].count().plot.bar(color=\"blue\")\n",
        "fig.set_ylabel(\"Total de Postagens\")\n",
        "fig.set_xlabel(\"Países\")\n",
        "fig.set_title(\"Postagens por país\", {'fontsize': 22})\n"
      ],
      "execution_count": null,
      "outputs": []
    },
    {
      "cell_type": "markdown",
      "metadata": {
        "id": "BheezKKpMStS"
      },
      "source": [
        "###Quantidade de países e comentários com geolocalização\n",
        "\n",
        "A seguir segue a quantidade de países identificados a partir das postagens realizadas e a quantidade da postagens postagens que possuem geolocalização."
      ]
    },
    {
      "cell_type": "code",
      "metadata": {
        "id": "AvrTeYKhGONu"
      },
      "source": [
        "paises = dados[\"pais\"].value_counts()\n",
        "print(\"Quandidade de Países:\", len(paises))\n",
        "locais_geo = dados[ dados[\"latitude\"].isna()==False]\n",
        "print(\"Comentários com geo localização:\", len(locais_geo))\n"
      ],
      "execution_count": null,
      "outputs": []
    },
    {
      "cell_type": "markdown",
      "metadata": {
        "id": "uhg3LNaBJlUW"
      },
      "source": [
        "##Instalação da bliblioteca _GeoPandas_\n",
        "Utilizado para plotagem de dados utilizando geolocalização"
      ]
    },
    {
      "cell_type": "code",
      "metadata": {
        "id": "NGfWAzPNLnH7"
      },
      "source": [
        "pip install geopandas"
      ],
      "execution_count": null,
      "outputs": []
    },
    {
      "cell_type": "code",
      "metadata": {
        "id": "wFkKxzWZMDVg"
      },
      "source": [
        "from shapely.geometry import Point\n",
        "import geopandas as gpd\n",
        "from geopandas import GeoDataFrame "
      ],
      "execution_count": null,
      "outputs": []
    },
    {
      "cell_type": "code",
      "metadata": {
        "id": "XdUurj9bMTfT"
      },
      "source": [
        "diferencaRegistrosLocais = len(dados) - len(locais)\n",
        "\n",
        "print(\"Numero de registros sem geo localização: \", diferencaRegistrosLocais)"
      ],
      "execution_count": null,
      "outputs": []
    },
    {
      "cell_type": "code",
      "metadata": {
        "id": "nAO3JWHwL10W"
      },
      "source": [
        "geometry  = [Point(xy) for xy in zip(locais['latitude'], locais['longitude'])]\n",
        "gdf = GeoDataFrame(locais, geometry = geometry,)\n",
        "\n",
        "world = gpd.read_file(gpd.datasets.get_path('naturalearth_lowres'))\n",
        "gdf.plot(ax=world.plot(figsize=(20, 12)), marker = 'o', color = 'red', markersize = 15)"
      ],
      "execution_count": null,
      "outputs": []
    },
    {
      "cell_type": "markdown",
      "metadata": {
        "id": "Bh5Prd9tZHxk"
      },
      "source": [
        "##Postagens"
      ]
    },
    {
      "cell_type": "code",
      "metadata": {
        "id": "_Qj-nVyl4NQg"
      },
      "source": [
        "registro = {'data':'', 'usuario':'', 'apelido':'', 'duvida':'', 'retweet':'', 'seguidores':'', 'idioma':'', 'lugar':'', 'pais':'', 'sigla': '', 'latitude':'' , 'longitude':'', 'hashtags':'' }\n",
        "\n",
        "#Separa os textos que apresentam '?'\n",
        "pre_perguntas = dados[dados[\"texto\"].str.contains(\"?\", regex=False) ]\n",
        "#Converte conteúdo de texto em minúsculo\n",
        "pre_perguntas[\"texto\"].str.lower()\n",
        "\n",
        "pre_perguntas.loc[\"texto\" is in [\"covid\"]]\n"
      ],
      "execution_count": null,
      "outputs": []
    },
    {
      "cell_type": "markdown",
      "metadata": {
        "id": "gI7MuWn6WEd8"
      },
      "source": [
        "###Extraindo as perguntas do dataframe \"pre_perguntas\""
      ]
    },
    {
      "cell_type": "code",
      "metadata": {
        "id": "S8UHu73-WeoE"
      },
      "source": [
        "type(pre_perguntas)"
      ],
      "execution_count": null,
      "outputs": []
    },
    {
      "cell_type": "markdown",
      "metadata": {
        "id": "YGcpbReiSfDA"
      },
      "source": [
        "#Análise dos dados do DuvidasDB"
      ]
    },
    {
      "cell_type": "code",
      "metadata": {
        "id": "hOkM8pmYXidx"
      },
      "source": [
        "pre_perguntas.head()"
      ],
      "execution_count": null,
      "outputs": []
    }
  ]
}