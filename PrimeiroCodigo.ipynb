{
  "nbformat": 4,
  "nbformat_minor": 0,
  "metadata": {
    "colab": {
      "name": "PrimeiroCodigo.ipynb",
      "provenance": [],
      "authorship_tag": "ABX9TyOC75lb3JcTAv0qKhm65Rk1",
      "include_colab_link": true
    },
    "kernelspec": {
      "name": "python3",
      "display_name": "Python 3"
    }
  },
  "cells": [
    {
      "cell_type": "markdown",
      "metadata": {
        "id": "view-in-github",
        "colab_type": "text"
      },
      "source": [
        "<a href=\"https://colab.research.google.com/github/albert-melo/ProgCiencia-de-Dados/blob/master/PrimeiroCodigo.ipynb\" target=\"_parent\"><img src=\"https://colab.research.google.com/assets/colab-badge.svg\" alt=\"Open In Colab\"/></a>"
      ]
    },
    {
      "cell_type": "code",
      "metadata": {
        "id": "Rr1XsDSSgG-4",
        "colab_type": "code",
        "colab": {
          "base_uri": "https://localhost:8080/",
          "height": 34
        },
        "outputId": "0d481016-7b71-4f54-bb62-a8fc165f18a1"
      },
      "source": [
        "import time\n",
        "print(time.ctime())"
      ],
      "execution_count": 6,
      "outputs": [
        {
          "output_type": "stream",
          "text": [
            "Sat Sep 19 13:35:22 2020\n"
          ],
          "name": "stdout"
        }
      ]
    },
    {
      "cell_type": "code",
      "metadata": {
        "id": "oA34HmjekgD0",
        "colab_type": "code",
        "colab": {
          "base_uri": "https://localhost:8080/",
          "height": 34
        },
        "outputId": "22c8fa02-64f3-46a4-8eac-0642dc938339"
      },
      "source": [
        "time.sleep(5)\n",
        "print(time.ctime())"
      ],
      "execution_count": 7,
      "outputs": [
        {
          "output_type": "stream",
          "text": [
            "Sat Sep 19 13:35:28 2020\n"
          ],
          "name": "stdout"
        }
      ]
    },
    {
      "cell_type": "markdown",
      "metadata": {
        "id": "wy_QWbXdm9Jm",
        "colab_type": "text"
      },
      "source": [
        "**Exemplo de Negrito **\n",
        "\n",
        "*Exemplo de Itálico*\n",
        "\n",
        "~Exemplo de Riscado~\n",
        "\n",
        "$\\sqrt{(3x-1)}+(1+x)^2$\n",
        "\n",
        "\n",
        "$e^x=\\sum_{i=0}^\\infty \\frac{1}{i!}x^i$\n",
        "\n"
      ]
    },
    {
      "cell_type": "markdown",
      "metadata": {
        "id": "2ljaEAvv0t8w",
        "colab_type": "text"
      },
      "source": [
        "!wget "
      ]
    }
  ]
}